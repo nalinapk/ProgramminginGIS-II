{
  "nbformat": 4,
  "nbformat_minor": 0,
  "metadata": {
    "colab": {
      "provenance": []
    },
    "kernelspec": {
      "name": "python3",
      "display_name": "Python 3"
    },
    "language_info": {
      "name": "python"
    }
  },
  "cells": [
    {
      "cell_type": "code",
      "execution_count": null,
      "metadata": {
        "collapsed": true,
        "id": "0KQVcfBwBw8E"
      },
      "outputs": [],
      "source": [
        "pip install geemap"
      ]
    },
    {
      "cell_type": "code",
      "source": [
        "pip install geemap[all]"
      ],
      "metadata": {
        "colab": {
          "base_uri": "https://localhost:8080/"
        },
        "collapsed": true,
        "id": "Zdg8_PpzCbfE",
        "outputId": "b0b28e91-2e6a-4951-8a4b-bbe76a1567a3"
      },
      "execution_count": null,
      "outputs": [
        {
          "output_type": "stream",
          "name": "stdout",
          "text": [
            "Requirement already satisfied: geemap[all] in /usr/local/lib/python3.11/dist-packages (0.35.1)\n",
            "Requirement already satisfied: bqplot in /usr/local/lib/python3.11/dist-packages (from geemap[all]) (0.12.44)\n",
            "Requirement already satisfied: colour in /usr/local/lib/python3.11/dist-packages (from geemap[all]) (0.1.5)\n",
            "Requirement already satisfied: earthengine-api>=1.0.0 in /usr/local/lib/python3.11/dist-packages (from geemap[all]) (1.4.5)\n",
            "Requirement already satisfied: eerepr>=0.0.4 in /usr/local/lib/python3.11/dist-packages (from geemap[all]) (0.1.0)\n",
            "Requirement already satisfied: folium>=0.17.0 in /usr/local/lib/python3.11/dist-packages (from geemap[all]) (0.19.4)\n",
            "Requirement already satisfied: geocoder in /usr/local/lib/python3.11/dist-packages (from geemap[all]) (1.38.1)\n",
            "Requirement already satisfied: ipyevents in /usr/local/lib/python3.11/dist-packages (from geemap[all]) (2.0.2)\n",
            "Requirement already satisfied: ipyfilechooser>=0.6.0 in /usr/local/lib/python3.11/dist-packages (from geemap[all]) (0.6.0)\n",
            "Requirement already satisfied: ipyleaflet>=0.19.2 in /usr/local/lib/python3.11/dist-packages (from geemap[all]) (0.19.2)\n",
            "Requirement already satisfied: ipytree in /usr/local/lib/python3.11/dist-packages (from geemap[all]) (0.2.2)\n",
            "Requirement already satisfied: matplotlib in /usr/local/lib/python3.11/dist-packages (from geemap[all]) (3.10.0)\n",
            "Requirement already satisfied: numpy in /usr/local/lib/python3.11/dist-packages (from geemap[all]) (1.26.4)\n",
            "Requirement already satisfied: pandas in /usr/local/lib/python3.11/dist-packages (from geemap[all]) (2.2.2)\n",
            "Requirement already satisfied: plotly in /usr/local/lib/python3.11/dist-packages (from geemap[all]) (5.24.1)\n",
            "Requirement already satisfied: pyperclip in /usr/local/lib/python3.11/dist-packages (from geemap[all]) (1.9.0)\n",
            "Requirement already satisfied: pyshp>=2.3.1 in /usr/local/lib/python3.11/dist-packages (from geemap[all]) (2.3.1)\n",
            "Requirement already satisfied: python-box in /usr/local/lib/python3.11/dist-packages (from geemap[all]) (7.3.2)\n",
            "Requirement already satisfied: scooby in /usr/local/lib/python3.11/dist-packages (from geemap[all]) (0.10.0)\n",
            "Requirement already satisfied: google-cloud-storage in /usr/local/lib/python3.11/dist-packages (from earthengine-api>=1.0.0->geemap[all]) (2.19.0)\n",
            "Requirement already satisfied: google-api-python-client>=1.12.1 in /usr/local/lib/python3.11/dist-packages (from earthengine-api>=1.0.0->geemap[all]) (2.155.0)\n",
            "Requirement already satisfied: google-auth>=1.4.1 in /usr/local/lib/python3.11/dist-packages (from earthengine-api>=1.0.0->geemap[all]) (2.27.0)\n",
            "Requirement already satisfied: google-auth-httplib2>=0.0.3 in /usr/local/lib/python3.11/dist-packages (from earthengine-api>=1.0.0->geemap[all]) (0.2.0)\n",
            "Requirement already satisfied: httplib2<1dev,>=0.9.2 in /usr/local/lib/python3.11/dist-packages (from earthengine-api>=1.0.0->geemap[all]) (0.22.0)\n",
            "Requirement already satisfied: requests in /usr/local/lib/python3.11/dist-packages (from earthengine-api>=1.0.0->geemap[all]) (2.32.3)\n",
            "Requirement already satisfied: branca>=0.6.0 in /usr/local/lib/python3.11/dist-packages (from folium>=0.17.0->geemap[all]) (0.8.1)\n",
            "Requirement already satisfied: jinja2>=2.9 in /usr/local/lib/python3.11/dist-packages (from folium>=0.17.0->geemap[all]) (3.1.5)\n",
            "Requirement already satisfied: xyzservices in /usr/local/lib/python3.11/dist-packages (from folium>=0.17.0->geemap[all]) (2025.1.0)\n",
            "Requirement already satisfied: ipywidgets in /usr/local/lib/python3.11/dist-packages (from ipyfilechooser>=0.6.0->geemap[all]) (7.7.1)\n",
            "Requirement already satisfied: jupyter-leaflet<0.20,>=0.19 in /usr/local/lib/python3.11/dist-packages (from ipyleaflet>=0.19.2->geemap[all]) (0.19.2)\n",
            "Requirement already satisfied: traittypes<3,>=0.2.1 in /usr/local/lib/python3.11/dist-packages (from ipyleaflet>=0.19.2->geemap[all]) (0.2.1)\n",
            "Requirement already satisfied: traitlets>=4.3.0 in /usr/local/lib/python3.11/dist-packages (from bqplot->geemap[all]) (5.7.1)\n",
            "Requirement already satisfied: python-dateutil>=2.8.2 in /usr/local/lib/python3.11/dist-packages (from pandas->geemap[all]) (2.8.2)\n",
            "Requirement already satisfied: pytz>=2020.1 in /usr/local/lib/python3.11/dist-packages (from pandas->geemap[all]) (2024.2)\n",
            "Requirement already satisfied: tzdata>=2022.7 in /usr/local/lib/python3.11/dist-packages (from pandas->geemap[all]) (2025.1)\n",
            "Requirement already satisfied: google-api-core in /usr/local/lib/python3.11/dist-packages (from geemap[all]) (2.19.2)\n",
            "Requirement already satisfied: google-generativeai in /usr/local/lib/python3.11/dist-packages (from geemap[all]) (0.8.4)\n",
            "Requirement already satisfied: google-cloud-aiplatform in /usr/local/lib/python3.11/dist-packages (from geemap[all]) (1.74.0)\n",
            "Collecting langchain-community (from geemap[all])\n",
            "  Downloading langchain_community-0.3.15-py3-none-any.whl.metadata (2.9 kB)\n",
            "Collecting langchain-google-genai (from geemap[all])\n",
            "  Downloading langchain_google_genai-2.0.9-py3-none-any.whl.metadata (3.6 kB)\n",
            "Requirement already satisfied: langchain in /usr/local/lib/python3.11/dist-packages (from geemap[all]) (0.3.15)\n",
            "Collecting iso8601 (from geemap[all])\n",
            "  Downloading iso8601-2.1.0-py3-none-any.whl.metadata (3.7 kB)\n",
            "Collecting gradio (from geemap[all])\n",
            "  Downloading gradio-5.13.1-py3-none-any.whl.metadata (16 kB)\n",
            "Collecting streamlit-folium (from geemap[all])\n",
            "  Downloading streamlit_folium-0.24.0-py3-none-any.whl.metadata (413 bytes)\n",
            "Collecting voila (from geemap[all])\n",
            "  Downloading voila-0.5.8-py3-none-any.whl.metadata (9.5 kB)\n",
            "Collecting solara (from geemap[all])\n",
            "  Downloading solara-1.43.0-py2.py3-none-any.whl.metadata (10 kB)\n",
            "Collecting keplergl (from geemap[all])\n",
            "  Downloading keplergl-0.3.6.tar.gz (18.4 MB)\n",
            "\u001b[2K     \u001b[90m━━━━━━━━━━━━━━━━━━━━━━━━━━━━━━━━━━━━━━━━\u001b[0m \u001b[32m18.4/18.4 MB\u001b[0m \u001b[31m57.8 MB/s\u001b[0m eta \u001b[36m0:00:00\u001b[0m\n",
            "\u001b[?25h  Installing build dependencies ... \u001b[?25l\u001b[?25hdone\n",
            "  Getting requirements to build wheel ... \u001b[?25l\u001b[?25hdone\n",
            "  Preparing metadata (pyproject.toml) ... \u001b[?25l\u001b[?25hdone\n",
            "Collecting pydeck (from geemap[all])\n",
            "  Downloading pydeck-0.9.1-py2.py3-none-any.whl.metadata (4.1 kB)\n",
            "Collecting ee-extra>=0.0.15 (from geemap[all])\n",
            "  Downloading ee_extra-0.0.15.tar.gz (224 kB)\n",
            "\u001b[2K     \u001b[90m━━━━━━━━━━━━━━━━━━━━━━━━━━━━━━━━━━━━━━━━\u001b[0m \u001b[32m224.7/224.7 kB\u001b[0m \u001b[31m23.5 MB/s\u001b[0m eta \u001b[36m0:00:00\u001b[0m\n",
            "\u001b[?25h  Preparing metadata (setup.py) ... \u001b[?25l\u001b[?25hdone\n",
            "Collecting ffmpeg-python (from geemap[all])\n",
            "  Downloading ffmpeg_python-0.2.0-py3-none-any.whl.metadata (1.7 kB)\n",
            "Requirement already satisfied: gdown in /usr/local/lib/python3.11/dist-packages (from geemap[all]) (5.2.0)\n",
            "Collecting geeadd>=0.5.1 (from geemap[all])\n",
            "  Downloading geeadd-1.2.0-py3-none-any.whl.metadata (3.9 kB)\n",
            "Collecting geojson (from geemap[all])\n",
            "  Downloading geojson-3.2.0-py3-none-any.whl.metadata (16 kB)\n",
            "Requirement already satisfied: geopandas in /usr/local/lib/python3.11/dist-packages (from geemap[all]) (1.0.1)\n",
            "Collecting ipynb-py-convert (from geemap[all])\n",
            "  Downloading ipynb-py-convert-0.4.6.tar.gz (3.9 kB)\n",
            "  Preparing metadata (setup.py) ... \u001b[?25l\u001b[?25hdone\n",
            "Collecting jupyterlab>=3 (from geemap[all])\n",
            "  Downloading jupyterlab-4.3.4-py3-none-any.whl.metadata (16 kB)\n",
            "Collecting mapclassify>=2.4.0 (from geemap[all])\n",
            "  Downloading mapclassify-2.8.1-py3-none-any.whl.metadata (2.8 kB)\n",
            "Collecting mss (from geemap[all])\n",
            "  Downloading mss-10.0.0-py3-none-any.whl.metadata (6.1 kB)\n",
            "Collecting oeel (from geemap[all])\n",
            "  Downloading oeel-0.9.8.8.tar.gz (19 kB)\n",
            "  Preparing metadata (setup.py) ... \u001b[?25l\u001b[?25hdone\n",
            "Collecting owslib (from geemap[all])\n",
            "  Downloading OWSLib-0.32.1-py2.py3-none-any.whl.metadata (6.6 kB)\n",
            "Collecting palettable (from geemap[all])\n",
            "  Downloading palettable-3.3.3-py2.py3-none-any.whl.metadata (3.3 kB)\n",
            "Collecting pycrs (from geemap[all])\n",
            "  Downloading PyCRS-1.0.2.tar.gz (36 kB)\n",
            "  Preparing metadata (setup.py) ... \u001b[?25l\u001b[?25hdone\n",
            "Collecting sankee>=0.1.0 (from geemap[all])\n",
            "  Downloading sankee-0.2.5-py3-none-any.whl.metadata (5.7 kB)\n",
            "Collecting whiteboxgui>=0.6.0 (from geemap[all])\n",
            "  Downloading whiteboxgui-2.3.0-py2.py3-none-any.whl.metadata (5.7 kB)\n",
            "Collecting xee (from geemap[all])\n",
            "  Downloading xee-0.0.19-py3-none-any.whl.metadata (5.7 kB)\n",
            "Collecting ipygany (from geemap[all])\n",
            "  Downloading ipygany-0.5.0-py2.py3-none-any.whl.metadata (1.5 kB)\n",
            "Collecting ipyvtklink (from geemap[all])\n",
            "  Downloading ipyvtklink-0.2.3-py3-none-any.whl.metadata (5.3 kB)\n",
            "Collecting laspy[lazrs] (from geemap[all])\n",
            "  Downloading laspy-2.5.4-py3-none-any.whl.metadata (3.5 kB)\n",
            "Requirement already satisfied: panel in /usr/local/lib/python3.11/dist-packages (from geemap[all]) (1.5.5)\n",
            "Collecting pyntcloud[las] (from geemap[all])\n",
            "  Downloading pyntcloud-0.3.1-py2.py3-none-any.whl.metadata (4.6 kB)\n",
            "Collecting pyvista (from geemap[all])\n",
            "  Downloading pyvista-0.44.2-py3-none-any.whl.metadata (15 kB)\n",
            "Collecting pyvista-xarray (from geemap[all])\n",
            "  Downloading pyvista_xarray-0.1.7-py3-none-any.whl.metadata (6.2 kB)\n",
            "Collecting rioxarray (from geemap[all])\n",
            "  Downloading rioxarray-0.18.2-py3-none-any.whl.metadata (5.4 kB)\n",
            "Collecting h3 (from geemap[all])\n",
            "  Downloading h3-4.1.2-cp311-cp311-manylinux_2_17_x86_64.manylinux2014_x86_64.whl.metadata (18 kB)\n",
            "Collecting ipyvuetify (from geemap[all])\n",
            "  Downloading ipyvuetify-1.10.0-py2.py3-none-any.whl.metadata (7.5 kB)\n",
            "Collecting localtileserver (from geemap[all])\n",
            "  Downloading localtileserver-0.10.6-py3-none-any.whl.metadata (5.2 kB)\n",
            "Collecting maplibre (from geemap[all])\n",
            "  Downloading maplibre-0.2.8-py3-none-any.whl.metadata (3.1 kB)\n",
            "Collecting pmtiles (from geemap[all])\n",
            "  Downloading pmtiles-3.4.1.tar.gz (13 kB)\n",
            "  Preparing metadata (setup.py) ... \u001b[?25l\u001b[?25hdone\n",
            "Requirement already satisfied: xarray in /usr/local/lib/python3.11/dist-packages (from geemap[all]) (2025.1.1)\n",
            "Collecting geedim (from geemap[all])\n",
            "  Downloading geedim-1.9.0-py3-none-any.whl.metadata (13 kB)\n",
            "Collecting rio-cogeo (from geemap[all])\n",
            "  Downloading rio_cogeo-5.4.1-py3-none-any.whl.metadata (4.7 kB)\n",
            "Collecting netcdf4 (from geemap[all])\n",
            "  Downloading netCDF4-1.7.2-cp311-cp311-manylinux_2_17_x86_64.manylinux2014_x86_64.whl.metadata (1.8 kB)\n",
            "Requirement already satisfied: psycopg2 in /usr/local/lib/python3.11/dist-packages (from geemap[all]) (2.9.10)\n",
            "Requirement already satisfied: sqlalchemy in /usr/local/lib/python3.11/dist-packages (from geemap[all]) (2.0.37)\n",
            "Collecting osmnx (from geemap[all])\n",
            "  Downloading osmnx-2.0.1-py3-none-any.whl.metadata (4.9 kB)\n",
            "Requirement already satisfied: click in /usr/local/lib/python3.11/dist-packages (from geocoder->geemap[all]) (8.1.8)\n",
            "Requirement already satisfied: future in /usr/local/lib/python3.11/dist-packages (from geocoder->geemap[all]) (1.0.0)\n",
            "Requirement already satisfied: ratelim in /usr/local/lib/python3.11/dist-packages (from geocoder->geemap[all]) (0.1.6)\n",
            "Requirement already satisfied: six in /usr/local/lib/python3.11/dist-packages (from geocoder->geemap[all]) (1.17.0)\n",
            "Requirement already satisfied: contourpy>=1.0.1 in /usr/local/lib/python3.11/dist-packages (from matplotlib->geemap[all]) (1.3.1)\n",
            "Requirement already satisfied: cycler>=0.10 in /usr/local/lib/python3.11/dist-packages (from matplotlib->geemap[all]) (0.12.1)\n",
            "Requirement already satisfied: fonttools>=4.22.0 in /usr/local/lib/python3.11/dist-packages (from matplotlib->geemap[all]) (4.55.4)\n",
            "Requirement already satisfied: kiwisolver>=1.3.1 in /usr/local/lib/python3.11/dist-packages (from matplotlib->geemap[all]) (1.4.8)\n",
            "Requirement already satisfied: packaging>=20.0 in /usr/local/lib/python3.11/dist-packages (from matplotlib->geemap[all]) (24.2)\n",
            "Requirement already satisfied: pillow>=8 in /usr/local/lib/python3.11/dist-packages (from matplotlib->geemap[all]) (11.1.0)\n",
            "Requirement already satisfied: pyparsing>=2.3.1 in /usr/local/lib/python3.11/dist-packages (from matplotlib->geemap[all]) (3.2.1)\n",
            "Requirement already satisfied: tenacity>=6.2.0 in /usr/local/lib/python3.11/dist-packages (from plotly->geemap[all]) (9.0.0)\n",
            "Collecting logzero>=1.5.0 (from geeadd>=0.5.1->geemap[all])\n",
            "  Downloading logzero-1.7.0-py2.py3-none-any.whl.metadata (11 kB)\n",
            "Requirement already satisfied: beautifulsoup4>=4.9.0 in /usr/local/lib/python3.11/dist-packages (from geeadd>=0.5.1->geemap[all]) (4.12.3)\n",
            "Collecting jsbeautifier>=1.15.1 (from geeadd>=0.5.1->geemap[all])\n",
            "  Downloading jsbeautifier-1.15.1.tar.gz (75 kB)\n",
            "\u001b[2K     \u001b[90m━━━━━━━━━━━━━━━━━━━━━━━━━━━━━━━━━━━━━━━━\u001b[0m \u001b[32m75.6/75.6 kB\u001b[0m \u001b[31m9.0 MB/s\u001b[0m eta \u001b[36m0:00:00\u001b[0m\n",
            "\u001b[?25h  Installing build dependencies ... \u001b[?25l\u001b[?25hdone\n",
            "  Getting requirements to build wheel ... \u001b[?25l\u001b[?25hdone\n",
            "  Preparing metadata (pyproject.toml) ... \u001b[?25l\u001b[?25hdone\n",
            "Requirement already satisfied: uritemplate<5,>=3.0.1 in /usr/local/lib/python3.11/dist-packages (from google-api-python-client>=1.12.1->earthengine-api>=1.0.0->geemap[all]) (4.1.1)\n",
            "Requirement already satisfied: googleapis-common-protos<2.0.dev0,>=1.56.2 in /usr/local/lib/python3.11/dist-packages (from google-api-core->geemap[all]) (1.66.0)\n",
            "Requirement already satisfied: protobuf!=3.20.0,!=3.20.1,!=4.21.0,!=4.21.1,!=4.21.2,!=4.21.3,!=4.21.4,!=4.21.5,<6.0.0.dev0,>=3.19.5 in /usr/local/lib/python3.11/dist-packages (from google-api-core->geemap[all]) (4.25.5)\n",
            "Requirement already satisfied: proto-plus<2.0.0dev,>=1.22.3 in /usr/local/lib/python3.11/dist-packages (from google-api-core->geemap[all]) (1.25.0)\n",
            "Requirement already satisfied: cachetools<6.0,>=2.0.0 in /usr/local/lib/python3.11/dist-packages (from google-auth>=1.4.1->earthengine-api>=1.0.0->geemap[all]) (5.5.1)\n",
            "Requirement already satisfied: pyasn1-modules>=0.2.1 in /usr/local/lib/python3.11/dist-packages (from google-auth>=1.4.1->earthengine-api>=1.0.0->geemap[all]) (0.4.1)\n",
            "Requirement already satisfied: rsa<5,>=3.1.4 in /usr/local/lib/python3.11/dist-packages (from google-auth>=1.4.1->earthengine-api>=1.0.0->geemap[all]) (4.9)\n",
            "Requirement already satisfied: ipykernel>=4.5.1 in /usr/local/lib/python3.11/dist-packages (from ipywidgets->ipyfilechooser>=0.6.0->geemap[all]) (5.5.6)\n",
            "Requirement already satisfied: ipython-genutils~=0.2.0 in /usr/local/lib/python3.11/dist-packages (from ipywidgets->ipyfilechooser>=0.6.0->geemap[all]) (0.2.0)\n",
            "Requirement already satisfied: widgetsnbextension~=3.6.0 in /usr/local/lib/python3.11/dist-packages (from ipywidgets->ipyfilechooser>=0.6.0->geemap[all]) (3.6.10)\n",
            "Requirement already satisfied: ipython>=4.0.0 in /usr/local/lib/python3.11/dist-packages (from ipywidgets->ipyfilechooser>=0.6.0->geemap[all]) (7.34.0)\n",
            "Requirement already satisfied: jupyterlab-widgets>=1.0.0 in /usr/local/lib/python3.11/dist-packages (from ipywidgets->ipyfilechooser>=0.6.0->geemap[all]) (3.0.13)\n",
            "Requirement already satisfied: MarkupSafe>=2.0 in /usr/local/lib/python3.11/dist-packages (from jinja2>=2.9->folium>=0.17.0->geemap[all]) (3.0.2)\n",
            "Collecting async-lru>=1.0.0 (from jupyterlab>=3->geemap[all])\n",
            "  Using cached async_lru-2.0.4-py3-none-any.whl.metadata (4.5 kB)\n",
            "Requirement already satisfied: httpx>=0.25.0 in /usr/local/lib/python3.11/dist-packages (from jupyterlab>=3->geemap[all]) (0.28.1)\n",
            "Collecting ipykernel>=4.5.1 (from ipywidgets->ipyfilechooser>=0.6.0->geemap[all])\n",
            "  Using cached ipykernel-6.29.5-py3-none-any.whl.metadata (6.3 kB)\n",
            "Requirement already satisfied: jupyter-core in /usr/local/lib/python3.11/dist-packages (from jupyterlab>=3->geemap[all]) (5.7.2)\n",
            "Collecting jupyter-lsp>=2.0.0 (from jupyterlab>=3->geemap[all])\n",
            "  Using cached jupyter_lsp-2.2.5-py3-none-any.whl.metadata (1.8 kB)\n",
            "Collecting jupyter-server<3,>=2.4.0 (from jupyterlab>=3->geemap[all])\n",
            "  Using cached jupyter_server-2.15.0-py3-none-any.whl.metadata (8.4 kB)\n",
            "Collecting jupyterlab-server<3,>=2.27.1 (from jupyterlab>=3->geemap[all])\n",
            "  Using cached jupyterlab_server-2.27.3-py3-none-any.whl.metadata (5.9 kB)\n",
            "Requirement already satisfied: notebook-shim>=0.2 in /usr/local/lib/python3.11/dist-packages (from jupyterlab>=3->geemap[all]) (0.2.4)\n",
            "Requirement already satisfied: setuptools>=40.8.0 in /usr/local/lib/python3.11/dist-packages (from jupyterlab>=3->geemap[all]) (75.1.0)\n",
            "Requirement already satisfied: tornado>=6.2.0 in /usr/local/lib/python3.11/dist-packages (from jupyterlab>=3->geemap[all]) (6.3.3)\n",
            "Requirement already satisfied: flask<4,>=2.0.0 in /usr/local/lib/python3.11/dist-packages (from localtileserver->geemap[all]) (3.1.0)\n",
            "Collecting Flask-Caching (from localtileserver->geemap[all])\n",
            "  Downloading Flask_Caching-2.3.0-py3-none-any.whl.metadata (2.2 kB)\n",
            "Collecting flask-cors (from localtileserver->geemap[all])\n",
            "  Downloading Flask_Cors-5.0.0-py2.py3-none-any.whl.metadata (5.5 kB)\n",
            "Collecting flask-restx>=1.3.0 (from localtileserver->geemap[all])\n",
            "  Downloading flask_restx-1.3.0-py2.py3-none-any.whl.metadata (9.3 kB)\n",
            "Collecting rio-tiler (from localtileserver->geemap[all])\n",
            "  Downloading rio_tiler-7.3.1-py3-none-any.whl.metadata (12 kB)\n",
            "Collecting server-thread (from localtileserver->geemap[all])\n",
            "  Downloading server_thread-0.3.0-py3-none-any.whl.metadata (5.3 kB)\n",
            "Requirement already satisfied: werkzeug in /usr/local/lib/python3.11/dist-packages (from localtileserver->geemap[all]) (3.1.3)\n",
            "Requirement already satisfied: networkx>=2.7 in /usr/local/lib/python3.11/dist-packages (from mapclassify>=2.4.0->geemap[all]) (3.4.2)\n",
            "Requirement already satisfied: scikit-learn>=1.0 in /usr/local/lib/python3.11/dist-packages (from mapclassify>=2.4.0->geemap[all]) (1.6.1)\n",
            "Requirement already satisfied: scipy>=1.8 in /usr/local/lib/python3.11/dist-packages (from mapclassify>=2.4.0->geemap[all]) (1.13.1)\n",
            "Requirement already satisfied: charset-normalizer<4,>=2 in /usr/local/lib/python3.11/dist-packages (from requests->earthengine-api>=1.0.0->geemap[all]) (3.4.1)\n",
            "Requirement already satisfied: idna<4,>=2.5 in /usr/local/lib/python3.11/dist-packages (from requests->earthengine-api>=1.0.0->geemap[all]) (3.10)\n",
            "Requirement already satisfied: urllib3<3,>=1.21.1 in /usr/local/lib/python3.11/dist-packages (from requests->earthengine-api>=1.0.0->geemap[all]) (2.3.0)\n",
            "Requirement already satisfied: certifi>=2017.4.17 in /usr/local/lib/python3.11/dist-packages (from requests->earthengine-api>=1.0.0->geemap[all]) (2024.12.14)\n",
            "Collecting whitebox (from whiteboxgui>=0.6.0->geemap[all])\n",
            "  Downloading whitebox-2.3.5-py2.py3-none-any.whl.metadata (10 kB)\n",
            "Requirement already satisfied: filelock in /usr/local/lib/python3.11/dist-packages (from gdown->geemap[all]) (3.17.0)\n",
            "Requirement already satisfied: tqdm in /usr/local/lib/python3.11/dist-packages (from gdown->geemap[all]) (4.67.1)\n",
            "Collecting rasterio>=1.3.8 (from geedim->geemap[all])\n",
            "  Downloading rasterio-1.4.3-cp311-cp311-manylinux_2_17_x86_64.manylinux2014_x86_64.whl.metadata (9.1 kB)\n"
          ]
        }
      ]
    },
    {
      "cell_type": "code",
      "source": [
        "pip install geemap[lidar]"
      ],
      "metadata": {
        "collapsed": true,
        "id": "Xz0oyJeBCfqk"
      },
      "execution_count": null,
      "outputs": []
    },
    {
      "cell_type": "code",
      "source": [
        "pip install geemap[raster]"
      ],
      "metadata": {
        "collapsed": true,
        "id": "17UZCAnYCqkK"
      },
      "execution_count": null,
      "outputs": []
    },
    {
      "cell_type": "code",
      "source": [
        "pip install geemap[sql]"
      ],
      "metadata": {
        "collapsed": true,
        "id": "xyQoZ-HPCyF7"
      },
      "execution_count": null,
      "outputs": []
    },
    {
      "cell_type": "code",
      "source": [
        "pip install geemap[vector]"
      ],
      "metadata": {
        "collapsed": true,
        "id": "kXaPvyyvC3SZ"
      },
      "execution_count": null,
      "outputs": []
    },
    {
      "cell_type": "code",
      "source": [
        "pip install geemap[streamlit]"
      ],
      "metadata": {
        "collapsed": true,
        "id": "wLZ6XAUfC7Sj"
      },
      "execution_count": null,
      "outputs": []
    },
    {
      "cell_type": "code",
      "source": [
        "import geemap.geemap as map"
      ],
      "metadata": {
        "id": "Zv52y-iSDCZd"
      },
      "execution_count": null,
      "outputs": []
    },
    {
      "cell_type": "code",
      "source": [
        "import ee"
      ],
      "metadata": {
        "id": "sT93pUXhLzaH"
      },
      "execution_count": null,
      "outputs": []
    },
    {
      "cell_type": "code",
      "source": [
        "ee.Authenticate()"
      ],
      "metadata": {
        "id": "Ylz_wBRwL164"
      },
      "execution_count": null,
      "outputs": []
    },
    {
      "cell_type": "code",
      "source": [
        "ee.Initialize(project = 'ee-nalinapk17')"
      ],
      "metadata": {
        "id": "ZYWoHf1nL9f1"
      },
      "execution_count": null,
      "outputs": []
    },
    {
      "cell_type": "code",
      "source": [
        "m=map.Map()\n",
        "m"
      ],
      "metadata": {
        "collapsed": true,
        "id": "JOnu30BYMAQe"
      },
      "execution_count": null,
      "outputs": []
    },
    {
      "cell_type": "code",
      "source": [
        "India = ee.FeatureCollection('projects/ee-nalinapk17/assets/India_states')\n",
        "India"
      ],
      "metadata": {
        "id": "pYQnllImMFK2",
        "collapsed": true
      },
      "execution_count": null,
      "outputs": []
    },
    {
      "cell_type": "code",
      "source": [
        "India_Districts = ee.FeatureCollection('projects/ee-nalinapk17/assets/India_Districts')\n",
        "m.addLayer(India_Districts,{},'India_Districts') #dislpaying the shapefile in the interactive map\n",
        "m"
      ],
      "metadata": {
        "collapsed": true,
        "id": "ZiWTPyhzMH_g"
      },
      "execution_count": null,
      "outputs": []
    },
    {
      "cell_type": "code",
      "source": [
        "Hyderabad = India_Districts.filter(ee.Filter.eq('District','HYDERABAD')) #Name,value\n",
        "m.addLayer(Hyderabad,{},'HYDERABAD')\n",
        "m"
      ],
      "metadata": {
        "collapsed": true,
        "id": "yRkJyIIZMWcB"
      },
      "execution_count": null,
      "outputs": []
    },
    {
      "cell_type": "code",
      "source": [
        "NDVI2024 = ee.ImageCollection(\"LANDSAT/COMPOSITES/C02/T1_L2_8DAY_NDVI\").select('NDVI').filterDate('2024-03-01', '2024-5-31')\n",
        "HyderabadNDVI_2024 = NDVI2024.mean().clip(Hyderabad)\n",
        "NDVI = {'min':0, 'max':1, 'palette': ['ffffff', 'ce7e45', 'df923d', 'f1b555', 'fcd163', '99b718', '74a901',\n",
        "    '66a000', '529400', '3e8601', '207401', '056201', '004c00', '023b01',\n",
        "    '012e01', '011d01', '011301']}\n",
        "m.addLayer(HyderabadNDVI_2024, NDVI, 'NDVI_2024')\n",
        "m"
      ],
      "metadata": {
        "collapsed": true,
        "id": "B9py-qf8zVzH"
      },
      "execution_count": null,
      "outputs": []
    },
    {
      "cell_type": "code",
      "source": [
        "import os"
      ],
      "metadata": {
        "id": "c_OpC9p46Prh",
        "collapsed": true
      },
      "execution_count": null,
      "outputs": []
    },
    {
      "cell_type": "code",
      "source": [
        "Hyderabad_clipped = HyderabadNDVI_2024.clip(Hyderabad.geometry())\n",
        "out_dir = os.path.join(os.path.expanduser('~'), 'Downloads')\n",
        "filename = os.path.join(out_dir, 'NDVI_2024.tif')\n",
        "if not os.path.exists(out_dir):\n",
        "    os.makedirs(out_dir)\n",
        "map.ee_export_image(\n",
        "    Hyderabad_clipped,\n",
        "    filename=filename,\n",
        "    scale=30,  # Set a reasonable scale (e.g., 30m)\n",
        "    region=Hyderabad.geometry(),  # Ensure the region is correct\n",
        "    file_per_band=False\n",
        ")"
      ],
      "metadata": {
        "id": "Af0UyJ9j6M7v",
        "collapsed": true
      },
      "execution_count": null,
      "outputs": []
    },
    {
      "cell_type": "code",
      "source": [
        "NDVI2014 = ee.ImageCollection(\"LANDSAT/COMPOSITES/C02/T1_L2_8DAY_NDVI\").select('NDVI').filterDate('2014-03-01', '2014-5-31')\n",
        "HyderabadNDVI_2014 = NDVI2014.mean().clip(Hyderabad)\n",
        "HyderabadNDVI_2014 = HyderabadNDVI_2014.updateMask(HyderabadNDVI_2014.gt(0))\n",
        "NDVI = {'min':0, 'max':1, 'palette': ['ffffff', 'ce7e45', 'df923d', 'f1b555', 'fcd163', '99b718', '74a901',\n",
        "    '66a000', '529400', '3e8601', '207401', '056201', '004c00', '023b01',\n",
        "    '012e01', '011d01', '011301']}\n",
        "m.addLayer(HyderabadNDVI_2014, NDVI, 'NDVI_2014')\n",
        "m"
      ],
      "metadata": {
        "collapsed": true,
        "id": "lmR-s3eH945b"
      },
      "execution_count": null,
      "outputs": []
    },
    {
      "cell_type": "code",
      "source": [
        "Hyderabad_clipped = HyderabadNDVI_2014.clip(Hyderabad.geometry())\n",
        "out_dir = os.path.join(os.path.expanduser('~'), 'Downloads')\n",
        "filename = os.path.join(out_dir, 'NDVI_2014.tif')\n",
        "if not os.path.exists(out_dir):\n",
        "    os.makedirs(out_dir)\n",
        "map.ee_export_image(\n",
        "    Hyderabad_clipped,\n",
        "    filename=filename,\n",
        "    scale=30,  # Set a reasonable scale (e.g., 30m)\n",
        "    region=Hyderabad.geometry(),  # Ensure the region is correct\n",
        "    file_per_band=False\n",
        ")"
      ],
      "metadata": {
        "id": "WAYKV8qm-_fK",
        "collapsed": true
      },
      "execution_count": null,
      "outputs": []
    },
    {
      "cell_type": "code",
      "source": [
        "NDVI2004 = ee.ImageCollection(\"LANDSAT/COMPOSITES/C02/T1_L2_8DAY_NDVI\").select('NDVI').filterDate('2004-03-01', '2004-5-31')\n",
        "HyderabadNDVI_2004 = NDVI2004.mean().clip(Hyderabad)\n",
        "HyderabadNDVI_2004 = HyderabadNDVI_2004.updateMask(HyderabadNDVI_2004.gt(0))\n",
        "NDVI = {'min':0, 'max':1, 'palette': ['ffffff', 'ce7e45', 'df923d', 'f1b555', 'fcd163', '99b718', '74a901',\n",
        "    '66a000', '529400', '3e8601', '207401', '056201', '004c00', '023b01',\n",
        "    '012e01', '011d01', '011301']}\n",
        "m.addLayer(HyderabadNDVI_2004, NDVI, 'NDVI_2004')\n",
        "m"
      ],
      "metadata": {
        "collapsed": true,
        "id": "bEGkIb4J_8dS"
      },
      "execution_count": null,
      "outputs": []
    },
    {
      "cell_type": "code",
      "source": [
        "Hyderabad_clipped = HyderabadNDVI_2004.clip(Hyderabad.geometry())\n",
        "out_dir = os.path.join(os.path.expanduser('~'), 'Downloads')\n",
        "filename = os.path.join(out_dir, 'NDVI_2004.tif')\n",
        "if not os.path.exists(out_dir):\n",
        "    os.makedirs(out_dir)\n",
        "map.ee_export_image(\n",
        "    Hyderabad_clipped,\n",
        "    filename=filename,\n",
        "    scale=30,  # Set a reasonable scale (e.g., 30m)\n",
        "    region=Hyderabad.geometry(),  # Ensure the region is correct\n",
        "    file_per_band=False\n",
        ")"
      ],
      "metadata": {
        "collapsed": true,
        "id": "nZ1hi8FaARdZ"
      },
      "execution_count": null,
      "outputs": []
    },
    {
      "cell_type": "code",
      "source": [
        "NDVI1994 = ee.ImageCollection(\"LANDSAT/COMPOSITES/C02/T1_L2_8DAY_NDVI\").select('NDVI').filterDate('1994-03-01', '1994-5-31')\n",
        "HyderabadNDVI_1994 = NDVI1994.mean().clip(Hyderabad)\n",
        "HyderabadNDVI_1994 = HyderabadNDVI_1994.updateMask(HyderabadNDVI_1994.gt(0))\n",
        "NDVI = {'min':0, 'max':1, 'palette': ['ffffff', 'ce7e45', 'df923d', 'f1b555', 'fcd163', '99b718', '74a901',\n",
        "    '66a000', '529400', '3e8601', '207401', '056201', '004c00', '023b01',\n",
        "    '012e01', '011d01', '011301']}\n",
        "m.addLayer(HyderabadNDVI_1994, NDVI, 'NDVI_1994')\n",
        "m"
      ],
      "metadata": {
        "collapsed": true,
        "id": "eYypYuxYAvLx"
      },
      "execution_count": null,
      "outputs": []
    },
    {
      "cell_type": "code",
      "source": [
        "Hyderabad_clipped = HyderabadNDVI_1994.clip(Hyderabad.geometry())\n",
        "out_dir = os.path.join(os.path.expanduser('~'), 'Downloads')\n",
        "filename = os.path.join(out_dir, 'NDVI_1994.tif')\n",
        "if not os.path.exists(out_dir):\n",
        "    os.makedirs(out_dir)\n",
        "map.ee_export_image(\n",
        "    Hyderabad_clipped,\n",
        "    filename=filename,\n",
        "    scale=30,  # Set a reasonable scale (e.g., 30m)\n",
        "    region=Hyderabad.geometry(),  # Ensure the region is correct\n",
        "    file_per_band=False\n",
        ")"
      ],
      "metadata": {
        "id": "KhkBgGISBvpx",
        "collapsed": true
      },
      "execution_count": null,
      "outputs": []
    },
    {
      "cell_type": "code",
      "source": [
        "NDVI1989 = ee.ImageCollection(\"LANDSAT/COMPOSITES/C02/T1_L2_8DAY_NDVI\").select('NDVI').filterDate('1989-03-01', '1989-12-31')\n",
        "HyderabadNDVI_1989 = NDVI1989.mean().clip(Hyderabad)\n",
        "NDVI = {'min':0, 'max':1, 'palette': ['ffffff', 'ce7e45', 'df923d', 'f1b555', 'fcd163', '99b718', '74a901',\n",
        "    '66a000', '529400', '3e8601', '207401', '056201', '004c00', '023b01',\n",
        "    '012e01', '011d01', '011301']}\n",
        "m.addLayer(HyderabadNDVI_1989, NDVI, 'NDVI_1989')\n",
        "m"
      ],
      "metadata": {
        "collapsed": true,
        "id": "NqsBWIWaB4i0"
      },
      "execution_count": null,
      "outputs": []
    },
    {
      "cell_type": "code",
      "source": [
        "Hyderabad_clipped = HyderabadNDVI_1989.clip(Hyderabad.geometry())\n",
        "out_dir = os.path.join(os.path.expanduser('~'), 'Downloads')\n",
        "filename = os.path.join(out_dir, 'NDVI_1989.tif')\n",
        "if not os.path.exists(out_dir):\n",
        "    os.makedirs(out_dir)\n",
        "map.ee_export_image(\n",
        "    Hyderabad_clipped,\n",
        "    filename=filename,\n",
        "    scale=30,  # Set a reasonable scale (e.g., 30m)\n",
        "    region=Hyderabad.geometry(),  # Ensure the region is correct\n",
        "    file_per_band=False\n",
        ")"
      ],
      "metadata": {
        "id": "PPN7U3GVCiNa",
        "collapsed": true
      },
      "execution_count": null,
      "outputs": []
    },
    {
      "cell_type": "code",
      "source": [
        "def calculate_NDWI(image):\n",
        "    green = image.select('SR_B3')\n",
        "    nir = image.select('SR_B5')\n",
        "    ndwi = green.subtract(nir).divide(green.add(nir)).rename('NDWI')\n",
        "    return image.addBands(ndwi)\n",
        "NDWI2024 = (\n",
        "    ee.ImageCollection(\"LANDSAT/LC09/C02/T1_L2\")\n",
        "    .filterDate('2024-03-01', '2024-05-31')\n",
        "    .filterBounds(Hyderabad)\n",
        "    .map(calculate_NDWI)\n",
        ")\n",
        "HyderabadNDWI_2024 = NDWI2024.select('NDWI').mean().clip(Hyderabad)\n",
        "NDWI_viz = {'min': -1, 'max': 1, 'palette': [\n",
        "        '#D73027',  # Red (Dry/Built-up)\n",
        "        '#FC8D59',  # Orange (Barren Land)\n",
        "        '#FEE08B',  # Yellow (Sparse Vegetation)\n",
        "        '#D9EF8B',  # Light Green (Moist Soil)\n",
        "        '#91CF60',  # Green (Vegetation)\n",
        "        '#1A9850',  # Dark Green (Shallow Water)\n",
        "        '#313695'   # Blue (Deep Water)\n",
        "    ]}\n",
        "m.addLayer(HyderabadNDWI_2024, NDWI_viz, 'NDWI_2024')\n",
        "m"
      ],
      "metadata": {
        "collapsed": true,
        "id": "T4Dw8JlDDdi5"
      },
      "execution_count": null,
      "outputs": []
    },
    {
      "cell_type": "code",
      "source": [
        "Hyderabad_clipped = HyderabadNDWI_2024.clip(Hyderabad.geometry())\n",
        "out_dir = os.path.join(os.path.expanduser('~'), 'Downloads')\n",
        "filename = os.path.join(out_dir, 'NDWI_2024.tif')\n",
        "if not os.path.exists(out_dir):\n",
        "    os.makedirs(out_dir)\n",
        "map.ee_export_image(\n",
        "    Hyderabad_clipped,\n",
        "    filename=filename,\n",
        "    scale=30,  # Set a reasonable scale (e.g., 30m)\n",
        "    region=Hyderabad.geometry(),  # Ensure the region is correct\n",
        "    file_per_band=False\n",
        ")"
      ],
      "metadata": {
        "id": "JSNlaS1TF5eZ",
        "collapsed": true
      },
      "execution_count": null,
      "outputs": []
    },
    {
      "cell_type": "code",
      "source": [
        "def calculate_NDWI(image):\n",
        "    green = image.select('SR_B3')\n",
        "    nir = image.select('SR_B5')\n",
        "    ndwi = green.subtract(nir).divide(green.add(nir)).rename('NDWI')\n",
        "    return image.addBands(ndwi)\n",
        "NDWI2014 = (\n",
        "    ee.ImageCollection(\"LANDSAT/LC08/C02/T1_L2\")\n",
        "    .filterDate('2014-03-01', '2014-05-31')\n",
        "    .filterBounds(Hyderabad)\n",
        "    .map(calculate_NDWI)\n",
        ")\n",
        "HyderabadNDWI_2014 = NDWI2014.select('NDWI').mean().clip(Hyderabad)\n",
        "NDWI_viz = {'min': -1, 'max': 1, 'palette': [\n",
        "        '#D73027',  # Red (Dry/Built-up)\n",
        "        '#FC8D59',  # Orange (Barren Land)\n",
        "        '#FEE08B',  # Yellow (Sparse Vegetation)\n",
        "        '#D9EF8B',  # Light Green (Moist Soil)\n",
        "        '#91CF60',  # Green (Vegetation)\n",
        "        '#1A9850',  # Dark Green (Shallow Water)\n",
        "        '#313695'   # Blue (Deep Water)\n",
        "    ]}\n",
        "m.addLayer(HyderabadNDWI_2014, NDWI_viz, 'NDWI_2014')\n",
        "m"
      ],
      "metadata": {
        "collapsed": true,
        "id": "6AktpbeNGpY1"
      },
      "execution_count": null,
      "outputs": []
    },
    {
      "cell_type": "code",
      "source": [
        "Hyderabad_clipped = HyderabadNDWI_2014.clip(Hyderabad.geometry())\n",
        "out_dir = os.path.join(os.path.expanduser('~'), 'Downloads')\n",
        "filename = os.path.join(out_dir, 'NDWI_2014.tif')\n",
        "if not os.path.exists(out_dir):\n",
        "    os.makedirs(out_dir)\n",
        "map.ee_export_image(\n",
        "    Hyderabad_clipped,\n",
        "    filename=filename,\n",
        "    scale=30,  # Set a reasonable scale (e.g., 30m)\n",
        "    region=Hyderabad.geometry(),  # Ensure the region is correct\n",
        "    file_per_band=False\n",
        ")"
      ],
      "metadata": {
        "collapsed": true,
        "id": "J3Ko0bmOHuA-"
      },
      "execution_count": null,
      "outputs": []
    },
    {
      "cell_type": "code",
      "source": [
        "def calculate_NDWI(image):\n",
        "    green = image.select('SR_B2')\n",
        "    nir = image.select('SR_B4')\n",
        "    ndwi = green.subtract(nir).divide(green.add(nir)).rename('NDWI')\n",
        "    return image.addBands(ndwi)\n",
        "NDWI2004 = (\n",
        "    ee.ImageCollection(\"LANDSAT/LT05/C02/T1_L2\")\n",
        "    .filterDate('2004-03-01', '2004-05-31')\n",
        "    .filterBounds(Hyderabad)\n",
        "    .map(calculate_NDWI)\n",
        ")\n",
        "HyderabadNDWI_2004 = NDWI2004.select('NDWI').mean().clip(Hyderabad)\n",
        "NDWI_viz = {'min': -1, 'max': 1, 'palette': [\n",
        "        '#D73027',  # Red (Dry/Built-up)\n",
        "        '#FC8D59',  # Orange (Barren Land)\n",
        "        '#FEE08B',  # Yellow (Sparse Vegetation)\n",
        "        '#D9EF8B',  # Light Green (Moist Soil)\n",
        "        '#91CF60',  # Green (Vegetation)\n",
        "        '#1A9850',  # Dark Green (Shallow Water)\n",
        "        '#313695'   # Blue (Deep Water)\n",
        "    ]}\n",
        "m.addLayer(HyderabadNDWI_2004, NDWI_viz, 'NDWI_2004')\n",
        "m"
      ],
      "metadata": {
        "collapsed": true,
        "id": "iGZK97P0JHpl"
      },
      "execution_count": null,
      "outputs": []
    },
    {
      "cell_type": "code",
      "source": [
        "Hyderabad_clipped = HyderabadNDWI_2004.clip(Hyderabad.geometry())\n",
        "out_dir = os.path.join(os.path.expanduser('~'), 'Downloads')\n",
        "filename = os.path.join(out_dir, 'NDWI_2004.tif')\n",
        "if not os.path.exists(out_dir):\n",
        "    os.makedirs(out_dir)\n",
        "map.ee_export_image(\n",
        "    Hyderabad_clipped,\n",
        "    filename=filename,\n",
        "    scale=30,  # Set a reasonable scale (e.g., 30m)\n",
        "    region=Hyderabad.geometry(),  # Ensure the region is correct\n",
        "    file_per_band=False\n",
        ")"
      ],
      "metadata": {
        "collapsed": true,
        "id": "S0davgpDKBLP"
      },
      "execution_count": null,
      "outputs": []
    },
    {
      "cell_type": "code",
      "source": [
        "def calculate_NDWI(image):\n",
        "    green = image.select('SR_B2')\n",
        "    nir = image.select('SR_B4')\n",
        "    ndwi = green.subtract(nir).divide(green.add(nir)).rename('NDWI')\n",
        "    return image.addBands(ndwi)\n",
        "NDWI1994 = (\n",
        "    ee.ImageCollection(\"LANDSAT/LT05/C02/T1_L2\")\n",
        "    .filterDate('1994-03-01', '1994-05-31')\n",
        "    .filterBounds(Hyderabad)\n",
        "    .map(calculate_NDWI)\n",
        ")\n",
        "HyderabadNDWI_1994 = NDWI1994.select('NDWI').mean().clip(Hyderabad)\n",
        "NDWI_viz = {'min': -1, 'max': 1, 'palette': [\n",
        "        '#D73027',  # Red (Dry/Built-up)\n",
        "        '#FC8D59',  # Orange (Barren Land)\n",
        "        '#FEE08B',  # Yellow (Sparse Vegetation)\n",
        "        '#D9EF8B',  # Light Green (Moist Soil)\n",
        "        '#91CF60',  # Green (Vegetation)\n",
        "        '#1A9850',  # Dark Green (Shallow Water)\n",
        "        '#313695'   # Blue (Deep Water)\n",
        "    ]}\n",
        "m.addLayer(HyderabadNDWI_1994, NDWI_viz, 'NDWI_1994')\n",
        "m"
      ],
      "metadata": {
        "collapsed": true,
        "id": "tRL16PyqKOcf"
      },
      "execution_count": null,
      "outputs": []
    },
    {
      "cell_type": "code",
      "source": [
        "Hyderabad_clipped = HyderabadNDWI_1994.clip(Hyderabad.geometry())\n",
        "out_dir = os.path.join(os.path.expanduser('~'), 'Downloads')\n",
        "filename = os.path.join(out_dir, 'NDWI_1994.tif')\n",
        "if not os.path.exists(out_dir):\n",
        "    os.makedirs(out_dir)\n",
        "map.ee_export_image(\n",
        "    Hyderabad_clipped,\n",
        "    filename=filename,\n",
        "    scale=30,  # Set a reasonable scale (e.g., 30m)\n",
        "    region=Hyderabad.geometry(),  # Ensure the region is correct\n",
        "    file_per_band=False\n",
        ")"
      ],
      "metadata": {
        "collapsed": true,
        "id": "5irocrqRKubw"
      },
      "execution_count": null,
      "outputs": []
    },
    {
      "cell_type": "code",
      "source": [
        "def calculate_NDWI(image):\n",
        "    green = image.select('SR_B2')\n",
        "    nir = image.select('SR_B4')\n",
        "    ndwi = green.subtract(nir).divide(green.add(nir)).rename('NDWI')\n",
        "      # Return the original image with the NDWI band added\n",
        "    return image.addBands(ndwi)\n",
        "NDWI1989 = (\n",
        "    ee.ImageCollection(\"LANDSAT/LT05/C02/T1_L2\")\n",
        "    .filterDate('1989-04-01', '1989-12-31')\n",
        "    .filterBounds(Hyderabad)\n",
        "    .map(calculate_NDWI)\n",
        ")\n",
        "HyderabadNDWI_1989 = NDWI1989.select('NDWI').mean().clip(Hyderabad)\n",
        "NDWI_viz = {'min': -1, 'max': 1, 'palette': [\n",
        "        '#D73027',  # Red (Dry/Built-up)\n",
        "        '#FC8D59',  # Orange (Barren Land)\n",
        "        '#FEE08B',  # Yellow (Sparse Vegetation)\n",
        "        '#D9EF8B',  # Light Green (Moist Soil)\n",
        "        '#91CF60',  # Green (Vegetation)\n",
        "        '#1A9850',  # Dark Green (Shallow Water)\n",
        "        '#313695'   # Blue (Deep Water)\n",
        "    ]}\n",
        "m.addLayer(HyderabadNDWI_1989, NDWI_viz, 'NDWI_1989')\n",
        "m"
      ],
      "metadata": {
        "collapsed": true,
        "id": "mIXaul-RK1Hk"
      },
      "execution_count": null,
      "outputs": []
    },
    {
      "cell_type": "code",
      "source": [
        "Hyderabad_clipped = HyderabadNDWI_1989.clip(Hyderabad.geometry())\n",
        "out_dir = os.path.join(os.path.expanduser('~'), 'Downloads')\n",
        "filename = os.path.join(out_dir, 'NDWI_1989.tif')\n",
        "if not os.path.exists(out_dir):\n",
        "    os.makedirs(out_dir)\n",
        "map.ee_export_image(\n",
        "    Hyderabad_clipped,\n",
        "    filename=filename,\n",
        "    scale=30,  # Set a reasonable scale (e.g., 30m)\n",
        "    region=Hyderabad.geometry(),  # Ensure the region is correct\n",
        "    file_per_band=False\n",
        ")"
      ],
      "metadata": {
        "collapsed": true,
        "id": "-A1hcts7Qigk"
      },
      "execution_count": null,
      "outputs": []
    },
    {
      "cell_type": "code",
      "source": [
        "def calculate_SAVI(image):\n",
        "    nir = image.select('SR_B5')  # Near-infrared band for Landsat 8\n",
        "    red = image.select('SR_B4')  # Red band for Landsat 8\n",
        "    L = 0.5  # Soil brightness correction factor (typically 0.5)\n",
        "\n",
        "    savi = nir.subtract(red).multiply(1 + L).divide(nir.add(red).add(L)).rename('SAVI')\n",
        "\n",
        "    # Return the original image with the SAVI band added\n",
        "    return image.addBands(savi)\n",
        "\n",
        "SAVI2024 = (\n",
        "    ee.ImageCollection(\"LANDSAT/LC08/C02/T1_L2\")\n",
        "    .filterDate('2024-03-01', '2024-05-31')\n",
        "    .filterBounds(Hyderabad)\n",
        "    .map(calculate_SAVI)\n",
        ")\n",
        "\n",
        "HyderabadSAVI_2024 = SAVI2024.select('SAVI').mean().clip(Hyderabad)\n",
        "\n",
        "SAVI_viz = {\n",
        "    'min': -1,  # Lower bound for SAVI values\n",
        "    'max': 1,   # Upper bound for SAVI values\n",
        "    'palette': [\n",
        "        'brown',    # Barren land / soil\n",
        "        'yellow',   # Sparse vegetation\n",
        "        'lightgreen', # Moderate vegetation\n",
        "        'green',    # Dense vegetation\n",
        "        'darkgreen' # Very dense vegetation\n",
        "    ]\n",
        "}\n",
        "\n",
        "m.addLayer(HyderabadSAVI_2024, SAVI_viz, 'SAVI_2024')\n",
        "m"
      ],
      "metadata": {
        "collapsed": true,
        "id": "_r4OAgbJTy-k"
      },
      "execution_count": null,
      "outputs": []
    },
    {
      "cell_type": "code",
      "source": [
        "Hyderabad_clipped = HyderabadSAVI_2024.clip(Hyderabad.geometry())\n",
        "out_dir = os.path.join(os.path.expanduser('~'), 'Downloads')\n",
        "filename = os.path.join(out_dir, 'SAVI_2024.tif')\n",
        "if not os.path.exists(out_dir):\n",
        "    os.makedirs(out_dir)\n",
        "map.ee_export_image(\n",
        "    Hyderabad_clipped,\n",
        "    filename=filename,\n",
        "    scale=30,  # Set a reasonable scale (e.g., 30m)\n",
        "    region=Hyderabad.geometry(),  # Ensure the region is correct\n",
        "    file_per_band=False\n",
        ")"
      ],
      "metadata": {
        "collapsed": true,
        "id": "MLFtwvNDVrV0"
      },
      "execution_count": null,
      "outputs": []
    },
    {
      "cell_type": "code",
      "source": [
        "def calculate_SAVI(image):\n",
        "    nir = image.select('SR_B5')  # Near-infrared band for Landsat 8\n",
        "    red = image.select('SR_B4')  # Red band for Landsat 8\n",
        "    L = 0.5  # Soil brightness correction factor (typically 0.5)\n",
        "\n",
        "    savi = nir.subtract(red).multiply(1 + L).divide(nir.add(red).add(L)).rename('SAVI')\n",
        "\n",
        "    # Return the original image with the SAVI band added\n",
        "    return image.addBands(savi)\n",
        "\n",
        "SAVI2014 = (\n",
        "    ee.ImageCollection(\"LANDSAT/LC08/C02/T1_L2\")\n",
        "    .filterDate('2014-03-01', '2014-05-31')\n",
        "    .filterBounds(Hyderabad)\n",
        "    .map(calculate_SAVI)\n",
        ")\n",
        "\n",
        "HyderabadSAVI_2014 = SAVI2014.select('SAVI').mean().clip(Hyderabad)\n",
        "\n",
        "SAVI_viz = {\n",
        "    'min': -1,  # Lower bound for SAVI values\n",
        "    'max': 1,   # Upper bound for SAVI values\n",
        "    'palette': [\n",
        "        'brown',    # Barren land / soil\n",
        "        'yellow',   # Sparse vegetation\n",
        "        'lightgreen', # Moderate vegetation\n",
        "        'green',    # Dense vegetation\n",
        "        'darkgreen' # Very dense vegetation\n",
        "    ]\n",
        "}\n",
        "\n",
        "m.addLayer(HyderabadSAVI_2014, SAVI_viz, 'SAVI_2014')\n",
        "m"
      ],
      "metadata": {
        "collapsed": true,
        "id": "GaEiZE59WDfG"
      },
      "execution_count": null,
      "outputs": []
    },
    {
      "cell_type": "code",
      "source": [
        "Hyderabad_clipped = HyderabadSAVI_2014.clip(Hyderabad.geometry())\n",
        "out_dir = os.path.join(os.path.expanduser('~'), 'Downloads')\n",
        "filename = os.path.join(out_dir, 'SAVI_2014.tif')\n",
        "if not os.path.exists(out_dir):\n",
        "    os.makedirs(out_dir)\n",
        "map.ee_export_image(\n",
        "    Hyderabad_clipped,\n",
        "    filename=filename,\n",
        "    scale=30,  # Set a reasonable scale (e.g., 30m)\n",
        "    region=Hyderabad.geometry(),  # Ensure the region is correct\n",
        "    file_per_band=False\n",
        ")"
      ],
      "metadata": {
        "collapsed": true,
        "id": "bLn5WS9mWyP-"
      },
      "execution_count": null,
      "outputs": []
    },
    {
      "cell_type": "code",
      "source": [
        "def calculate_SAVI(image):\n",
        "    nir = image.select('SR_B4')  # Near-infrared band\n",
        "    red = image.select('SR_B3')  # Red band\n",
        "    L = 0.5  # Soil brightness correction factor (typical value is 0.5)\n",
        "\n",
        "    savi = nir.subtract(red).multiply(1 + L).divide(nir.add(red).add(L)).rename('SAVI')\n",
        "\n",
        "    # Return the original image with the SAVI band added\n",
        "    return image.addBands(savi)\n",
        "\n",
        "SAVI2004 = (\n",
        "    ee.ImageCollection(\"LANDSAT/LT05/C02/T1_L2\")\n",
        "    .filterDate('2004-03-01', '2004-05-31')\n",
        "    .filterBounds(Hyderabad)\n",
        "    .map(calculate_SAVI)\n",
        ")\n",
        "\n",
        "HyderabadSAVI_2004 = SAVI2004.select('SAVI').mean().clip(Hyderabad)\n",
        "\n",
        "SAVI_viz = {\n",
        "    'min': -1,  # Lower bound for SAVI values\n",
        "    'max': 1,   # Upper bound for SAVI values\n",
        "    'palette': [\n",
        "        'brown',    # Barren land / soil\n",
        "        'yellow',   # Sparse vegetation\n",
        "        'lightgreen', # Moderate vegetation\n",
        "        'green',    # Dense vegetation\n",
        "        'darkgreen' # Very dense vegetation\n",
        "    ]\n",
        "}\n",
        "\n",
        "m.addLayer(HyderabadSAVI_2004, SAVI_viz, 'SAVI_2004')\n",
        "m"
      ],
      "metadata": {
        "collapsed": true,
        "id": "CR_5xbD1XDLv"
      },
      "execution_count": null,
      "outputs": []
    },
    {
      "cell_type": "code",
      "source": [
        "Hyderabad_clipped = HyderabadSAVI_2004.clip(Hyderabad.geometry())\n",
        "out_dir = os.path.join(os.path.expanduser('~'), 'Downloads')\n",
        "filename = os.path.join(out_dir, 'SAVI_2004.tif')\n",
        "if not os.path.exists(out_dir):\n",
        "    os.makedirs(out_dir)\n",
        "map.ee_export_image(\n",
        "    Hyderabad_clipped,\n",
        "    filename=filename,\n",
        "    scale=30,  # Set a reasonable scale (e.g., 30m)\n",
        "    region=Hyderabad.geometry(),  # Ensure the region is correct\n",
        "    file_per_band=False\n",
        ")"
      ],
      "metadata": {
        "collapsed": true,
        "id": "ZNYGF92EXe-K"
      },
      "execution_count": null,
      "outputs": []
    },
    {
      "cell_type": "code",
      "source": [
        "def calculate_SAVI(image):\n",
        "    nir = image.select('SR_B4')  # Near-infrared band\n",
        "    red = image.select('SR_B3')  # Red band\n",
        "    L = 0.5  # Soil brightness correction factor (typical value is 0.5)\n",
        "\n",
        "    savi = nir.subtract(red).multiply(1 + L).divide(nir.add(red).add(L)).rename('SAVI')\n",
        "\n",
        "    # Return the original image with the SAVI band added\n",
        "    return image.addBands(savi)\n",
        "\n",
        "SAVI1994 = (\n",
        "    ee.ImageCollection(\"LANDSAT/LT05/C02/T1_L2\")\n",
        "    .filterDate('1994-03-01', '1994-05-31')\n",
        "    .filterBounds(Hyderabad)\n",
        "    .map(calculate_SAVI)\n",
        ")\n",
        "\n",
        "HyderabadSAVI_1994 = SAVI1994.select('SAVI').mean().clip(Hyderabad)\n",
        "\n",
        "SAVI_viz = {\n",
        "    'min': -1,  # Lower bound for SAVI values\n",
        "    'max': 1,   # Upper bound for SAVI values\n",
        "    'palette': [\n",
        "        'brown',    # Barren land / soil\n",
        "        'yellow',   # Sparse vegetation\n",
        "        'lightgreen', # Moderate vegetation\n",
        "        'green',    # Dense vegetation\n",
        "        'darkgreen' # Very dense vegetation\n",
        "    ]\n",
        "}\n",
        "\n",
        "m.addLayer(HyderabadSAVI_1994, SAVI_viz, 'SAVI_1994')\n",
        "m"
      ],
      "metadata": {
        "collapsed": true,
        "id": "Ac_hW5UMZJm1"
      },
      "execution_count": null,
      "outputs": []
    },
    {
      "cell_type": "code",
      "source": [
        "Hyderabad_clipped = HyderabadSAVI_1994.clip(Hyderabad.geometry())\n",
        "out_dir = os.path.join(os.path.expanduser('~'), 'Downloads')\n",
        "filename = os.path.join(out_dir, 'SAVI_1994.tif')\n",
        "if not os.path.exists(out_dir):\n",
        "    os.makedirs(out_dir)\n",
        "map.ee_export_image(\n",
        "    Hyderabad_clipped,\n",
        "    filename=filename,\n",
        "    scale=30,  # Set a reasonable scale (e.g., 30m)\n",
        "    region=Hyderabad.geometry(),  # Ensure the region is correct\n",
        "    file_per_band=False\n",
        ")"
      ],
      "metadata": {
        "collapsed": true,
        "id": "uEryT1VnZtJ2"
      },
      "execution_count": null,
      "outputs": []
    },
    {
      "cell_type": "code",
      "source": [
        "def calculate_SAVI(image):\n",
        "    nir = image.select('SR_B4')  # Near-infrared band\n",
        "    red = image.select('SR_B3')  # Red band\n",
        "    L = 0.5  # Soil brightness correction factor (typical value is 0.5)\n",
        "\n",
        "    savi = nir.subtract(red).multiply(1 + L).divide(nir.add(red).add(L)).rename('SAVI')\n",
        "\n",
        "    # Return the original image with the SAVI band added\n",
        "    return image.addBands(savi)\n",
        "\n",
        "SAVI1989 = (\n",
        "    ee.ImageCollection(\"LANDSAT/LT05/C02/T1_L2\")\n",
        "    .filterDate('1989-03-01', '1989-12-31')\n",
        "    .filterBounds(Hyderabad)\n",
        "    .map(calculate_SAVI)\n",
        ")\n",
        "\n",
        "HyderabadSAVI_1989 = SAVI1989.select('SAVI').mean().clip(Hyderabad)\n",
        "\n",
        "SAVI_viz = {\n",
        "    'min': -1,  # Lower bound for SAVI values\n",
        "    'max': 1,   # Upper bound for SAVI values\n",
        "    'palette': [\n",
        "        'brown',    # Barren land / soil\n",
        "        'yellow',   # Sparse vegetation\n",
        "        'lightgreen', # Moderate vegetation\n",
        "        'green',    # Dense vegetation\n",
        "        'darkgreen' # Very dense vegetation\n",
        "    ]\n",
        "}\n",
        "\n",
        "m.addLayer(HyderabadSAVI_1989, SAVI_viz, 'SAVI_1989')\n",
        "m"
      ],
      "metadata": {
        "collapsed": true,
        "id": "AzWT2BCcZ1jz"
      },
      "execution_count": null,
      "outputs": []
    },
    {
      "cell_type": "code",
      "source": [
        "m.setCenter(78.486671, 17.385044, 10)"
      ],
      "metadata": {
        "collapsed": true,
        "id": "mr6HflGIr7eX"
      },
      "execution_count": null,
      "outputs": []
    },
    {
      "cell_type": "code",
      "source": [
        "out_dir = 'Downloads'  # Using a directory that's accessible in my environment\n",
        "filename_html = os.path.join(out_dir, 'NDVI_SAVI_NDWI_map.html')"
      ],
      "metadata": {
        "collapsed": true,
        "id": "2sxEYp_4r39q"
      },
      "execution_count": null,
      "outputs": []
    },
    {
      "cell_type": "code",
      "source": [
        "# Create the directory if it doesn't exist\n",
        "if not os.path.exists(out_dir):\n",
        "    os.makedirs(out_dir)\n",
        "m.save('/content/Downloads/NDVI_SAVI_NDWI_map.html')"
      ],
      "metadata": {
        "collapsed": true,
        "id": "rpSRGoF3rz3L"
      },
      "execution_count": null,
      "outputs": []
    },
    {
      "cell_type": "code",
      "source": [
        "from google.colab import files\n",
        "files.download('/content/Downloads/NDVI_SAVI_NDWI_map.html')"
      ],
      "metadata": {
        "collapsed": true,
        "id": "I2xaUeVxrr4K"
      },
      "execution_count": null,
      "outputs": []
    }
  ]
}